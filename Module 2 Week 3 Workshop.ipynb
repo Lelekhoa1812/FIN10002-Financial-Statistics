{
 "cells": [
  {
   "cell_type": "code",
   "execution_count": 2,
   "id": "53ee17c0",
   "metadata": {},
   "outputs": [
    {
     "name": "stdout",
     "output_type": "stream",
     "text": [
      "The mean is 4956.6\n",
      "The median is 5002.0\n",
      "The mode is 0     4132\n",
      "1     4188\n",
      "2     4209\n",
      "3     4423\n",
      "4     4568\n",
      "5     4573\n",
      "6     4983\n",
      "7     5002\n",
      "8     5052\n",
      "9     5176\n",
      "10    5310\n",
      "11    5381\n",
      "12    5611\n",
      "13    5736\n",
      "14    6005\n",
      "Name: Question 1P, dtype: int64\n",
      "The 1st quartile is 4495.5\n",
      "The 3rd quartile is 4495.5\n",
      "The 90th percentile is 5686.0\n",
      "The 25th percentile is 4495.5\n",
      "The range is 1873\n",
      "The standard deviation is 592.3532729714591\n",
      "The variance is 350882.4\n",
      "Summary statistic count      15.000000\n",
      "mean     4956.600000\n",
      "std       592.353273\n",
      "min      4132.000000\n",
      "25%      4495.500000\n",
      "50%      5002.000000\n",
      "75%      5345.500000\n",
      "max      6005.000000\n",
      "Name: Question 1P, dtype: float64\n"
     ]
    }
   ],
   "source": [
    "import pandas as pd \n",
    "import numpy as np\n",
    "df=pd.read_excel(\"Module 2 Week 3 Workshop data file.xlsx\", \"Question 1P\")\n",
    "print(\"The mean is\", df[\"Question 1P\"].mean())\n",
    "print(\"The median is\", df[\"Question 1P\"].median())\n",
    "print(\"The mode is\", df[\"Question 1P\"].mode())\n",
    "print(\"The 1st quartile is\", np.quantile(df,0.25))\n",
    "print(\"The 3rd quartile is\", np.quantile(df,0.25))\n",
    "print(\"The 90th percentile is\", np.percentile(df,90))\n",
    "print(\"The 25th percentile is\", np.percentile(df,25))\n",
    "print(\"The range is\", df['Question 1P'].max() - df['Question 1P'].min())\n",
    "print(\"The standard deviation is\", df['Question 1P'].std())\n",
    "print(\"The variance is\", round(df['Question 1P'].var(),2))\n",
    "print(\"Summary statistic\", df['Question 1P'].describe())\n",
    "\n",
    "\n"
   ]
  },
  {
   "cell_type": "code",
   "execution_count": 1,
   "id": "3ddbae8f",
   "metadata": {},
   "outputs": [
    {
     "name": "stdout",
     "output_type": "stream",
     "text": [
      "The mean is 178465.2037617555\n",
      "The median is 173000.0\n",
      "The mode is 0      90100\n",
      "1     148500\n",
      "2     150750\n",
      "3     151900\n",
      "4     152500\n",
      "5     155750\n",
      "6     157500\n",
      "7     161500\n",
      "8     166100\n",
      "9     179900\n",
      "10    182750\n",
      "11    193100\n",
      "12    194200\n",
      "13    199500\n",
      "14    229500\n",
      "15    265500\n",
      "16    310500\n",
      "Name: List Price, dtype: int64\n",
      "The standard deviation is 63271.22021446165\n"
     ]
    }
   ],
   "source": [
    "import pandas as pd \n",
    "df=pd.read_excel(\"Module 2 Week 3 Workshop data file.xlsx\", \"Question 3P\")\n",
    "print(\"The mean is\", df[\"List Price\"].mean())\n",
    "print(\"The median is\", df[\"List Price\"].median())\n",
    "print(\"The mode is\", df[\"List Price\"].mode())\n",
    "print(\"The standard deviation is\", df['List Price'].std())"
   ]
  },
  {
   "cell_type": "code",
   "execution_count": null,
   "id": "11a70d15",
   "metadata": {},
   "outputs": [],
   "source": []
  },
  {
   "cell_type": "code",
   "execution_count": null,
   "id": "ec686966",
   "metadata": {},
   "outputs": [],
   "source": []
  },
  {
   "cell_type": "code",
   "execution_count": null,
   "id": "b27f2f55",
   "metadata": {},
   "outputs": [],
   "source": []
  }
 ],
 "metadata": {
  "kernelspec": {
   "display_name": "Python 3 (ipykernel)",
   "language": "python",
   "name": "python3"
  },
  "language_info": {
   "codemirror_mode": {
    "name": "ipython",
    "version": 3
   },
   "file_extension": ".py",
   "mimetype": "text/x-python",
   "name": "python",
   "nbconvert_exporter": "python",
   "pygments_lexer": "ipython3",
   "version": "3.9.13"
  }
 },
 "nbformat": 4,
 "nbformat_minor": 5
}
