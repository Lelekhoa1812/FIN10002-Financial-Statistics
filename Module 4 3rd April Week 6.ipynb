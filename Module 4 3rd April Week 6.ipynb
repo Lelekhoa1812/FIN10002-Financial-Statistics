{
 "cells": [
  {
   "cell_type": "code",
   "execution_count": 4,
   "id": "2e44155e",
   "metadata": {},
   "outputs": [
    {
     "name": "stdout",
     "output_type": "stream",
     "text": [
      "Question 1\n",
      "P(0<z<2.33)is 0.49009692444083575\n",
      "P(-1<z<1)is 0.6826894921370859\n",
      "P(1.78<z<2.34)is 0.027896110403158425\n"
     ]
    }
   ],
   "source": [
    "import scipy.stats as st\n",
    "print (\"Question 1\")\n",
    "print ('P(0<z<2.33)is',st.norm.cdf(2.33,0,1)-st.norm.cdf(0,0,1))\n",
    "print ('P(-1<z<1)is',st.norm.cdf(1,0,1)-st.norm.cdf(-1,0,1))\n",
    "print ('P(1.78<z<2.34)is',st.norm.cdf(2.34,0,1)-st.norm.cdf(1.78,0,1))\n",
    "\n"
   ]
  },
  {
   "cell_type": "code",
   "execution_count": null,
   "id": "1325d0cb",
   "metadata": {},
   "outputs": [],
   "source": [
    "import scipy.stats as st\n",
    "print (\"Question 2\")\n",
    "print ('P(0<z<2.33)is',st.norm.cdf(2.33,0,1)-st.norm.cdf(0,0,1))\n",
    "\n"
   ]
  }
 ],
 "metadata": {
  "kernelspec": {
   "display_name": "Python 3 (ipykernel)",
   "language": "python",
   "name": "python3"
  },
  "language_info": {
   "codemirror_mode": {
    "name": "ipython",
    "version": 3
   },
   "file_extension": ".py",
   "mimetype": "text/x-python",
   "name": "python",
   "nbconvert_exporter": "python",
   "pygments_lexer": "ipython3",
   "version": "3.9.13"
  }
 },
 "nbformat": 4,
 "nbformat_minor": 5
}
