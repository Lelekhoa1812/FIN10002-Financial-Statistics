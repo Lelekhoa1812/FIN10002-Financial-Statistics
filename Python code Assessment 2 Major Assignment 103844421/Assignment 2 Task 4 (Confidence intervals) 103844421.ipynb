{
 "cells": [
  {
   "cell_type": "code",
   "execution_count": 25,
   "id": "3c3e5735",
   "metadata": {},
   "outputs": [
    {
     "name": "stdout",
     "output_type": "stream",
     "text": [
      "Mean Sales for the Consumer sector:  193.37\n",
      "95% confidence interval for Average Sales from the Consumer sector:  (133.3154483947102, 253.42642660528975)\n",
      "\n",
      "Mean Profit for the East region:  46.26\n",
      "95% confidence interval for Average Profit from the East region:  (21.60768214102438, 70.90749563675341)\n",
      "\n",
      "     _____________________________________________________________________________________     \n",
      "\n",
      "We are 95% confidence that the Average Sales for the Consumer sector lies between 133.32 and 253.43\n",
      "We are 95% confidence that the Average Profit for the East lies between 21.61 and 70.91\n"
     ]
    }
   ],
   "source": [
    "# Task 4 Confidence intervals\n",
    "import pandas as pd\n",
    "import numpy as np\n",
    "from scipy.stats import t\n",
    "\n",
    "df = pd.read_excel('Major Assignment Superstore Data.xlsx','Task 1 (Random Sample)')\n",
    "\n",
    "consumer_sales = df.loc[(df['Segment'] == 'Consumer'), 'Sales']\n",
    "east_profit = df.loc[(df['Region'] == 'East'), 'Profit']\n",
    "\n",
    "mean_sales = np.mean(consumer_sales)\n",
    "mean_profit = np.mean(east_profit)\n",
    "\n",
    "se_sales = np.std(consumer_sales, ddof=1) / np.sqrt(len(consumer_sales))\n",
    "se_profit = np.std(east_profit, ddof=1) / np.sqrt(len(east_profit))\n",
    "\n",
    "df_sales = len(consumer_sales) - 1\n",
    "df_profit = len(east_profit) - 1\n",
    "conf_level = 0.95\n",
    "\n",
    "t_sales = t.ppf(conf_level, df_sales)\n",
    "t_profit = t.ppf(conf_level, df_profit)\n",
    "\n",
    "cs_sales = (mean_sales - t_sales * se_sales, mean_sales + t_sales * se_sales)\n",
    "ep_profit = (mean_profit - t_profit * se_profit, mean_profit + t_profit * se_profit)\n",
    "\n",
    "print(\"Mean Sales for the Consumer sector: \", round(mean_sales,2))\n",
    "print(\"95% confidence interval for Average Sales from the Consumer sector: \", cs_sales)\n",
    "\n",
    "print()\n",
    "\n",
    "print(\"Mean Profit for the East region: \", round(mean_profit,2))\n",
    "print(\"95% confidence interval for Average Profit from the East region: \", ep_profit)\n",
    "\n",
    "print()\n",
    "print(\"     _____________________________________________________________________________________     \")\n",
    "print()\n",
    "\n",
    "print(\"We are 95% confidence that the Average Sales for the Consumer sector lies between\", round(cs_sales[0],2), \"and\", round(cs_sales[1],2))\n",
    "print(\"We are 95% confidence that the Average Profit for the East lies between\", round(ep_profit[0],2), \"and\", round(ep_profit[1],2))\n",
    "\n",
    "\n"
   ]
  },
  {
   "cell_type": "code",
   "execution_count": 26,
   "id": "e8a629e9",
   "metadata": {},
   "outputs": [
    {
     "name": "stdout",
     "output_type": "stream",
     "text": [
      "From the Super Store Data of 9994 transaction:\n",
      "\n",
      "Mean Sales for the Consumer sector:  223.73\n",
      "95% confidence interval for Average Sales from the Consumer sector:  (210.36405145642195, 237.1032361567537)\n",
      "\n",
      "Mean Profit for the East region:  32.14\n",
      "95% confidence interval for Average Profit from the East region:  (24.37837490273505, 39.89324026580436)\n"
     ]
    }
   ],
   "source": [
    "import pandas as pd\n",
    "import numpy as np\n",
    "from scipy.stats import t\n",
    "\n",
    "df = pd.read_excel('Major Assignment Superstore Data.xlsx','Orders')\n",
    "\n",
    "consumer_sales = df.loc[(df['Segment'] == 'Consumer'), 'Sales']\n",
    "east_profit = df.loc[(df['Region'] == 'East'), 'Profit']\n",
    "\n",
    "mean_sales = np.mean(consumer_sales)\n",
    "mean_profit = np.mean(east_profit)\n",
    "\n",
    "se_sales = np.std(consumer_sales, ddof=1) / np.sqrt(len(consumer_sales))\n",
    "se_profit = np.std(east_profit, ddof=1) / np.sqrt(len(east_profit))\n",
    "\n",
    "df_sales = len(consumer_sales) - 1\n",
    "df_profit = len(east_profit) - 1\n",
    "conf_level = 0.95\n",
    "\n",
    "t_sales = t.ppf(conf_level, df_sales)\n",
    "t_profit = t.ppf(conf_level, df_profit)\n",
    "\n",
    "cs_sales = (mean_sales - t_sales * se_sales, mean_sales + t_sales * se_sales)\n",
    "ep_profit = (mean_profit - t_profit * se_profit, mean_profit + t_profit * se_profit)\n",
    "\n",
    "print(\"From the Super Store Data of 9994 transaction:\")\n",
    "\n",
    "print()\n",
    "\n",
    "print(\"Mean Sales for the Consumer sector: \", round(mean_sales,2))\n",
    "print(\"95% confidence interval for Average Sales from the Consumer sector: \", cs_sales)\n",
    "\n",
    "print()\n",
    "\n",
    "print(\"Mean Profit for the East region: \", round(mean_profit,2))\n",
    "print(\"95% confidence interval for Average Profit from the East region: \", ep_profit)"
   ]
  },
  {
   "cell_type": "code",
   "execution_count": null,
   "id": "d62c5f87",
   "metadata": {},
   "outputs": [],
   "source": []
  }
 ],
 "metadata": {
  "kernelspec": {
   "display_name": "Python 3 (ipykernel)",
   "language": "python",
   "name": "python3"
  },
  "language_info": {
   "codemirror_mode": {
    "name": "ipython",
    "version": 3
   },
   "file_extension": ".py",
   "mimetype": "text/x-python",
   "name": "python",
   "nbconvert_exporter": "python",
   "pygments_lexer": "ipython3",
   "version": "3.9.13"
  }
 },
 "nbformat": 4,
 "nbformat_minor": 5
}
