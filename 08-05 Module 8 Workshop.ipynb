{
 "cells": [
  {
   "cell_type": "code",
   "execution_count": 22,
   "id": "f56a010d",
   "metadata": {},
   "outputs": [
    {
     "name": "stdout",
     "output_type": "stream",
     "text": [
      "         x        y\n",
      "x  1.00000  0.20571\n",
      "y  0.20571  1.00000\n",
      "LinregressResult(slope=0.32234689107059367, intercept=18.68232819074334, rvalue=0.20571036906629586, pvalue=0.5685721346578803, stderr=0.5421672167721209, intercept_stderr=19.522537341133503)\n"
     ]
    },
    {
     "name": "stderr",
     "output_type": "stream",
     "text": [
      "/var/folders/5r/fxrr0_d13n52p19ztpjzvf4c0000gn/T/ipykernel_43834/1253039981.py:13: RuntimeWarning: Second argument 'y' is ambiguous: could be a format string but is in 'data'; using as data.  If it was intended as data, set the format string to an empty string to suppress this warning.  If it was intended as a format string, explicitly pass the x-values as well.  Alternatively, rename the entry in 'data'.\n",
      "  plt.plot('x', 'y', data = df, linestyle = 'none', marker = 'o')\n"
     ]
    },
    {
     "data": {
      "image/png": "[encoded data removed]",
      "text/plain": [
       "<Figure size 640x480 with 1 Axes>"
      ]
     },
     "metadata": {},
     "output_type": "display_data"
    },
    {
     "name": "stdout",
     "output_type": "stream",
     "text": [
      "                            OLS Regression Results                            \n",
      "==============================================================================\n",
      "Dep. Variable:                      y   R-squared:                       0.042\n",
      "Model:                            OLS   Adj. R-squared:                 -0.077\n",
      "Method:                 Least Squares   F-statistic:                    0.3535\n",
      "Date:                Mon, 08 May 2023   Prob (F-statistic):              0.569\n",
      "Time:                        18:27:18   Log-Likelihood:                -40.711\n",
      "No. Observations:                  10   AIC:                             85.42\n",
      "Df Residuals:                       8   BIC:                             86.03\n",
      "Df Model:                           1                                         \n",
      "Covariance Type:            nonrobust                                         \n",
      "==============================================================================\n",
      "                 coef    std err          t      P>|t|      [0.025      0.975]\n",
      "------------------------------------------------------------------------------\n",
      "Intercept     18.6823     19.523      0.957      0.367     -26.337      63.701\n",
      "x              0.3223      0.542      0.595      0.569      -0.928       1.573\n",
      "==============================================================================\n",
      "Omnibus:                        2.631   Durbin-Watson:                   3.102\n",
      "Prob(Omnibus):                  0.268   Jarque-Bera (JB):                0.936\n",
      "Skew:                          -0.126   Prob(JB):                        0.626\n",
      "Kurtosis:                       1.523   Cond. No.                         140.\n",
      "==============================================================================\n",
      "\n",
      "Notes:\n",
      "[1] Standard Errors assume that the covariance matrix of the errors is correctly specified.\n"
     ]
    },
    {
     "name": "stderr",
     "output_type": "stream",
     "text": [
      "/Users/khoale/opt/anaconda3/lib/python3.9/site-packages/scipy/stats/_stats_py.py:1769: UserWarning: kurtosistest only valid for n>=20 ... continuing anyway, n=10\n",
      "  warnings.warn(\"kurtosistest only valid for n>=20 ... continuing \"\n"
     ]
    }
   ],
   "source": [
    "import pandas as pd\n",
    "import matplotlib.pyplot as plt\n",
    "import scipy.stats as st\n",
    "\n",
    "df = pd.read_excel('Module 8 Workshop Excel File.xlsx', \"Question 1\")\n",
    "\n",
    "corr = df[['x', 'y']].corr()\n",
    "print (corr)\n",
    "\n",
    "plt.title('Y vs X', fontsize = 20, color = 'purple')\n",
    "plt.xlabel('X', fontsize = 15, color = 'g')\n",
    "plt.ylabel('Y', fontsize = 15, color = 'g')\n",
    "plt.plot('x', 'y', data = df, linestyle = 'none', marker = 'o')\n",
    "\n",
    "model = st.linregress(df['x'], df['y'])\n",
    "print(model)\n",
    "m=model[0]\n",
    "c = model[1]\n",
    "x = df ['x']\n",
    "plt.plot(x, m*x+c, color = 'red')\n",
    "plt.show()\n",
    "\n",
    "import statsmodels.formula.api as sms\n",
    "print(sms.ols('y ~ x', df).fit().summary())"
   ]
  },
  {
   "cell_type": "code",
   "execution_count": null,
   "id": "02453da7",
   "metadata": {},
   "outputs": [],
   "source": []
  }
 ],
 "metadata": {
  "kernelspec": {
   "display_name": "Python 3 (ipykernel)",
   "language": "python",
   "name": "python3"
  },
  "language_info": {
   "codemirror_mode": {
    "name": "ipython",
    "version": 3
   },
   "file_extension": ".py",
   "mimetype": "text/x-python",
   "name": "python",
   "nbconvert_exporter": "python",
   "pygments_lexer": "ipython3",
   "version": "3.9.13"
  }
 },
 "nbformat": 4,
 "nbformat_minor": 5
}
