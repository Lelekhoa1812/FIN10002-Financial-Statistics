{
 "cells": [
  {
   "cell_type": "code",
   "execution_count": 19,
   "id": "f4db1840",
   "metadata": {},
   "outputs": [
    {
     "name": "stdout",
     "output_type": "stream",
     "text": [
      "[[70, 90], [60, 50], [45, 28], [42, 47], [36, 48]]\n",
      "[[78.4496124  81.5503876 ]\n",
      " [53.93410853 56.06589147]\n",
      " [35.79263566 37.20736434]\n",
      " [43.6375969  45.3624031 ]\n",
      " [41.18604651 42.81395349]]\n",
      "Degree of Freedom =  4\n",
      "Chi2 stat is 9.1728 \n",
      "Chi2 critical is 9.4877 \n",
      "Do not reject Ho, there is no evidence of dependence\n"
     ]
    }
   ],
   "source": [
    "import scipy.stats as st\n",
    "table = [[70,90],\n",
    "         [60,50],\n",
    "         [45,28],\n",
    "         [42,47],\n",
    "         [36,48]]\n",
    "print(table)\n",
    "stat, p, dof, expected=st.chi2_contingency(table,correction = False)\n",
    "print(expected)\n",
    "print(\"Degree of Freedom = \", dof)\n",
    "print(\"Chi2 stat is %.4f \" % stat)\n",
    "#Chi2 critical\n",
    "alpha  =0.05\n",
    "critical = st.chi2.ppf(1-alpha, dof)\n",
    "print(\"Chi2 critical is %.4f \" % critical)\n",
    "\n",
    "if stat >= critical:\n",
    " print(\"Reject Ho, they are dependent\")\n",
    "else:\n",
    " print(\"Do not reject Ho, there is no evidence of dependence\")"
   ]
  },
  {
   "cell_type": "code",
   "execution_count": null,
   "id": "b7bd05c0",
   "metadata": {},
   "outputs": [],
   "source": []
  }
 ],
 "metadata": {
  "kernelspec": {
   "display_name": "Python 3 (ipykernel)",
   "language": "python",
   "name": "python3"
  },
  "language_info": {
   "codemirror_mode": {
    "name": "ipython",
    "version": 3
   },
   "file_extension": ".py",
   "mimetype": "text/x-python",
   "name": "python",
   "nbconvert_exporter": "python",
   "pygments_lexer": "ipython3",
   "version": "3.9.13"
  }
 },
 "nbformat": 4,
 "nbformat_minor": 5
}
